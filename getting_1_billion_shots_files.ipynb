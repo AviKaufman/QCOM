{
 "cells": [
  {
   "cell_type": "code",
   "execution_count": null,
   "id": "21541666",
   "metadata": {},
   "outputs": [
    {
     "name": "stdout",
     "output_type": "stream",
     "text": [
      " 100% completeStarting: Saving dictionary to Parquet...\n",
      "Task: Saving dictionary to Parquet | Progress: 100.00% | Elapsed: 5.90s | Remaining: 0.00s\n",
      "Completed: Saving dictionary to Parquet. Elapsed time: 5.90 seconds.\n",
      "Dictionary saved to ../../../Downloads/counts_parq/1_billion_counts_2.0_19_rungs.parquet\n",
      "Starting: Saving dictionary to Parquet...\n",
      "Task: Saving dictionary to Parquet | Progress: 100.00% | Elapsed: 4.68s | Remaining: 0.00s\n",
      "Completed: Saving dictionary to Parquet. Elapsed time: 4.68 seconds.\n",
      "Dictionary saved to ../../../Downloads/probs_parq/1_billion_probabilities_2.0_19_rungs.parquet\n"
     ]
    }
   ],
   "source": [
    "from Processor import parse_file\n",
    "from Processor import combine_datasets\n",
    "from Processor import save_data\n",
    "from Processor import save_dict_to_parquet\n",
    "from Processor import normalize_to_probabilities\n",
    "\n",
    "# combine all the files into 1 dataset\n",
    "\n",
    "nr = 19\n",
    "rba = 2.0\n",
    "\n",
    "file_path = f\"../../../Downloads/{rba}_{nr}_rungs/rydberg_test13_{nr}_{rba}_1_12_10000000_1_1_.txt\"\n",
    "\n",
    "current_data, total_count = parse_file(file_path, show_progress = False)\n",
    "\n",
    "for t in range(2,101):\n",
    "    file_path = f\"../../../Downloads/{rba}_{nr}_rungs/rydberg_test13_{nr}_{rba}_1_12_10000000_{t}_1_.txt\"\n",
    "    processed_data, total_count = parse_file(file_path, show_progress = False)\n",
    "    current_data = combine_datasets(current_data, processed_data)\n",
    "    print(f\"\\r {t}% complete\", end = \"\")\n",
    "\n",
    "# save the combined dataset\n",
    "save_file = f\"../../../Downloads/counts_txt/1_billion_counts_{rba}_{nr}_rungs.txt\"\n",
    "save_data(current_data, save_file)\n",
    "\n",
    "save_file = f\"../../../Downloads/counts_parq/1_billion_counts_{rba}_{nr}_rungs.parquet\"\n",
    "\n",
    "save_dict_to_parquet(processed_data, save_file)\n",
    "\n",
    "normalized_data = normalize_to_probabilities(processed_data, total_count)\n",
    "\n",
    "save_file = f\"../../../Downloads/probs_txt/1_billion_probabilities_{rba}_{nr}_rungs.txt\"\n",
    "\n",
    "save_data(normalized_data, save_file)\n",
    "\n",
    "# save the normalized data\n",
    "\n",
    "save_file = f\"../../../Downloads/probs_parq/1_billion_probabilities_{rba}_{nr}_rungs.parquet\"\n",
    "\n",
    "save_dict_to_parquet(normalized_data, save_file)"
   ]
  }
 ],
 "metadata": {
  "kernelspec": {
   "display_name": "py39",
   "language": "python",
   "name": "python3"
  },
  "language_info": {
   "codemirror_mode": {
    "name": "ipython",
    "version": 3
   },
   "file_extension": ".py",
   "mimetype": "text/x-python",
   "name": "python",
   "nbconvert_exporter": "python",
   "pygments_lexer": "ipython3",
   "version": "3.11.5"
  }
 },
 "nbformat": 4,
 "nbformat_minor": 5
}
