{
 "cells": [
  {
   "cell_type": "markdown",
   "metadata": {},
   "source": [
    "### Generating Hamiltonians for exact results\n",
    "\n",
    "In this tutorial I'll be showing how to build and obtain intersting information from hamiltonains using the QCOM package."
   ]
  },
  {
   "cell_type": "markdown",
   "metadata": {},
   "source": [
    "### Rydberg Hamiltonian\n",
    "The hamiltonain we would like to build is the following:\n",
    "\n",
    "\\begin{equation}\n",
    "H = \\frac{\\Omega}{2}\\sum_i(\\ket{g_i}\\bra{r_i} + \\ket{r_i}\\bra{g_i})-\\Delta\\sum_i  n_i +\\sum_{i<j}V_{ij}n_in_j,\n",
    "\\end{equation}\n",
    "\n",
    "This assume $\\hbar$ units. The inputs to our function will be the number of atoms, $\\Omega$, $\\Delta$, $\\frac{R_b}{\\alpha}$ and a flag which tells the solver whether or not to use Periodic Boundary Conditions. As always we will have the additionally show_progress flag that determines whether or not you get progress updates. By default this flag is set to false, so you must set it to true if you want to see progress updates."
   ]
  },
  {
   "cell_type": "markdown",
   "metadata": {},
   "source": [
    "### 1-D Rydberg Chain\n",
    "\n",
    "The code below builds the hamiltonian for a 1D chain of rydberg atoms. See the figure below for the exact geometry being built. The numbers within the atoms correspond to the indexing convention\n",
    "\n",
    "<img src = \"../images/11_atom_Chain_Structure.png\" style = \"width:50%\">"
   ]
  },
  {
   "cell_type": "code",
   "execution_count": 1,
   "metadata": {},
   "outputs": [],
   "source": [
    "import sys\n",
    "import os\n",
    "\n",
    "# For Jupyter, use os.getcwd() to get the current notebook's directory\n",
    "sys.path.append(os.path.abspath(os.path.join(os.getcwd(), '..')))\n",
    "\n",
    "import QCOM as qc"
   ]
  },
  {
   "cell_type": "code",
   "execution_count": 1,
   "metadata": {},
   "outputs": [
    {
     "name": "stdout",
     "output_type": "stream",
     "text": [
      "Starting: Building Rydberg Hamiltonian (Chain)...\n",
      "Task: Building Rydberg Hamiltonian (Chain) | Progress: 100.00% | Elapsed: 0.97s | Remaining: 0.00s\n",
      "Completed: Building Rydberg Hamiltonian (Chain). Elapsed time: 0.97 seconds.\n",
      "[[ 0.00000000e+00  7.85398163e+00  7.85398163e+00 ...  0.00000000e+00\n",
      "   0.00000000e+00  0.00000000e+00]\n",
      " [ 7.85398163e+00 -5.49778714e+01  0.00000000e+00 ...  0.00000000e+00\n",
      "   0.00000000e+00  0.00000000e+00]\n",
      " [ 7.85398163e+00  0.00000000e+00 -5.49778714e+01 ...  0.00000000e+00\n",
      "   0.00000000e+00  0.00000000e+00]\n",
      " ...\n",
      " [ 0.00000000e+00  0.00000000e+00  0.00000000e+00 ...  2.37701739e+04\n",
      "   0.00000000e+00  7.85398163e+00]\n",
      " [ 0.00000000e+00  0.00000000e+00  0.00000000e+00 ...  0.00000000e+00\n",
      "   2.64329789e+04  7.85398163e+00]\n",
      " [ 0.00000000e+00  0.00000000e+00  0.00000000e+00 ...  7.85398163e+00\n",
      "   7.85398163e+00  2.90869861e+04]]\n"
     ]
    }
   ],
   "source": [
    "import QCOM as qc\n",
    "import numpy as np\n",
    "\n",
    "# Parameters for the Rydberg Hamiltonian\n",
    "num_atoms = 12  # Number of atoms in the chain\n",
    "Omega = 5 * np.pi  # Rabi frequency in MHz\n",
    "Delta = 3.5 * Omega  # Detuning in MHz\n",
    "a = 3.56  # Lattice spacing in μm\n",
    "pbc = False  # Periodic boundary conditions\n",
    "show_progress = True  # Print progress of the Hamiltonian construction\n",
    "\n",
    "# Construct the Hamiltonian for the Rydberg model on a chain\n",
    "\n",
    "hamiltonian = qc.build_rydberg_hamiltonian_chain(num_atoms, Omega, Delta, a, pbc, show_progress)\n",
    "print(hamiltonian.toarray())"
   ]
  },
  {
   "cell_type": "markdown",
   "metadata": {},
   "source": [
    "Additionally if you have $\\frac{R_b}{\\alpha}$ and not $\\alpha$ by itself you can obtain it through the following relationship. C6 is a constant and can always be used in this context"
   ]
  },
  {
   "cell_type": "code",
   "execution_count": 2,
   "metadata": {},
   "outputs": [
    {
     "name": "stdout",
     "output_type": "stream",
     "text": [
      "[[ 0.00000000e+00  7.85398163e+00  7.85398163e+00 ...  0.00000000e+00\n",
      "   0.00000000e+00  0.00000000e+00]\n",
      " [ 7.85398163e+00 -5.49778714e+01  0.00000000e+00 ...  0.00000000e+00\n",
      "   0.00000000e+00  0.00000000e+00]\n",
      " [ 7.85398163e+00  0.00000000e+00 -5.49778714e+01 ...  0.00000000e+00\n",
      "   0.00000000e+00  0.00000000e+00]\n",
      " ...\n",
      " [ 0.00000000e+00  0.00000000e+00  0.00000000e+00 ...  2.09763111e+04\n",
      "   0.00000000e+00  7.85398163e+00]\n",
      " [ 0.00000000e+00  0.00000000e+00  0.00000000e+00 ...  0.00000000e+00\n",
      "   2.36219259e+04  7.85398163e+00]\n",
      " [ 0.00000000e+00  0.00000000e+00  0.00000000e+00 ...  7.85398163e+00\n",
      "   7.85398163e+00  2.62584446e+04]]\n"
     ]
    }
   ],
   "source": [
    "# Parameters for the Rydberg Hamiltonian\n",
    "num_atoms = 11  # Number of atoms in the chain\n",
    "Omega = 5 * np.pi  # Rabi frequency in MHz\n",
    "Delta = 3.5 * Omega  # Detuning in MHz\n",
    "C6 = 5420503  # Van der Waals interaction strength in MHz * μm^6\n",
    "Rba = 2.35 # Rydberg blockade radius divided by the lattice spacing\n",
    "a = ((C6 / Omega) ** (1 / 6)) / Rba  # Lattice spacing in μm\n",
    "pbc = False  # Periodic boundary conditions\n",
    "\n",
    "# Construct the Hamiltonian for the Rydberg model on a chain\n",
    "\n",
    "hamiltonian = qc.build_rydberg_hamiltonian_chain(num_atoms, Omega, Delta, a, pbc)\n",
    "print(hamiltonian.toarray())\n"
   ]
  },
  {
   "cell_type": "markdown",
   "metadata": {},
   "source": [
    "### Rybderg Ladder \n",
    "Moving to 2 dimensions we can generate the ladder structure shown in the image below. The key input here is the factor $\\rho$ which determines the ratio between x and y distances. In the image below $\\rho$ = 2 meaning the y spacing is 2 times that of the x spacing. Conversely if $\\rho$ = 0.5 the y spacing would be half that of the x spacing. Once again the numbers within the atoms correspond to their indexing convention\n",
    "\n",
    "<img src = \"../images/Ladder_Structure.png\" style = \"width:50%\">"
   ]
  },
  {
   "cell_type": "code",
   "execution_count": 3,
   "metadata": {},
   "outputs": [
    {
     "name": "stdout",
     "output_type": "stream",
     "text": [
      "Starting: Building Rydberg Hamiltonian (Ladder)...\n"
     ]
    },
    {
     "name": "stdout",
     "output_type": "stream",
     "text": [
      "Task: Building Rydberg Hamiltonian (Ladder) | Progress: 100.00% | Elapsed: 1.08s | Remaining: 0.00s\n",
      "Completed: Building Rydberg Hamiltonian (Ladder). Elapsed time: 1.09 seconds.\n",
      "[[ 0.00000000e+00  7.85398163e+00  7.85398163e+00 ...  0.00000000e+00\n",
      "   0.00000000e+00  0.00000000e+00]\n",
      " [ 7.85398163e+00 -5.49778714e+01  0.00000000e+00 ...  0.00000000e+00\n",
      "   0.00000000e+00  0.00000000e+00]\n",
      " [ 7.85398163e+00  0.00000000e+00 -5.49778714e+01 ...  0.00000000e+00\n",
      "   0.00000000e+00  0.00000000e+00]\n",
      " ...\n",
      " [ 0.00000000e+00  0.00000000e+00  0.00000000e+00 ...  2.39558831e+04\n",
      "   0.00000000e+00  7.85398163e+00]\n",
      " [ 0.00000000e+00  0.00000000e+00  0.00000000e+00 ...  0.00000000e+00\n",
      "   2.39558831e+04  7.85398163e+00]\n",
      " [ 0.00000000e+00  0.00000000e+00  0.00000000e+00 ...  7.85398163e+00\n",
      "   7.85398163e+00  2.66616181e+04]]\n"
     ]
    }
   ],
   "source": [
    "# Parameters for the Rydberg Hamiltonian\n",
    "num_atoms = 12  # Number of atoms in the ladder\n",
    "Omega = 5 * np.pi  # Rabi frequency in MHz\n",
    "Delta = 3.5 * Omega  # Detuning in MHz\n",
    "C6 = 5420503  # Van der Waals interaction strength in MHz * μm^6\n",
    "Rba = 2.35\n",
    "rho = 2.0  # Ratio of the rung spacing to the lattice spacing\n",
    "a = ((C6 / Omega) ** (1 / 6)) / Rba  # Lattice spacing in μm\n",
    "pbc = False  # Periodic boundary conditions\n",
    "show_progress = True  # Print progress of the Hamiltonian construction\n",
    "\n",
    "# Construct the Hamiltonian for the Rydberg model on a ladder\n",
    "hamiltonian = qc.build_rydberg_hamiltonian_ladder(num_atoms, Omega, Delta, a, rho, pbc, show_progress)\n",
    "print(hamiltonian.toarray())"
   ]
  },
  {
   "cell_type": "markdown",
   "metadata": {},
   "source": [
    "### Calculating Von Neumann Entanglement Entropy (VNEE)\n",
    "To calculate the VNEE from the hamiltonian all you need to do is call the code below. The function takes in the constructed hamiltonian and the configuration. The configuration is a list where each index represents an atom in your system. These indices are according the conventions defined in their hamiltonian as I have described. 1 means the atom is in and 0 means the atom is out. \n",
    "\n",
    "Note: the calculation from the hamiltonian can take around 10-20 seconds only because the task of computing the eigen values is expensive. Does NOT currently work for systems larger than 14 atoms. Diagonalization results in memory error. If you already have the reduced density matrix you can directly calculate the VNEE using the function von_neumann_entropy_from_rdm(rdm). In this case you do not need to input your configuration as it is already implicit in your reduced density matrix. "
   ]
  },
  {
   "cell_type": "code",
   "execution_count": 4,
   "metadata": {},
   "outputs": [
    {
     "name": "stdout",
     "output_type": "stream",
     "text": [
      "Starting: Computing Von Neumann Entropy...\n",
      "Finding Eigenstate... This may take some time. Please wait."
     ]
    },
    {
     "name": "stdout",
     "output_type": "stream",
     "text": [
      "Eigenstate 0 found in 8.70 seconds.                                             \n",
      "Task: Computing Von Neumann Entropy | Progress: 100.00% | Elapsed: 8.92s | Remaining: 0.00s\n",
      "Completed: Computing Von Neumann Entropy. Elapsed time: 8.92 seconds.\n",
      "0.8440853178280305\n"
     ]
    }
   ],
   "source": [
    "show_progress = True\n",
    "state_index = 0 # ground state\n",
    "configuraiton = [1, 1, 1, 1, 1, 1, 0, 0, 0, 0, 0, 0]\n",
    "vnee = qc.von_neumann_entropy_from_hamiltonian(hamiltonian, configuraiton, state_index, show_progress)\n",
    "print(vnee)\n"
   ]
  },
  {
   "cell_type": "markdown",
   "metadata": {},
   "source": [
    "### Getting VNEE The Long Way\n",
    "\n",
    "If you so choose you can also use a more flexible approach to obtaining the VNEE that allows you the intermediate steps of getting the groundstate, density matrix, and reduced density matrix. The code below will provide the same answer as above but you have more oversight."
   ]
  },
  {
   "cell_type": "code",
   "execution_count": 5,
   "metadata": {},
   "outputs": [
    {
     "name": "stdout",
     "output_type": "stream",
     "text": [
      "Starting: Finding Eigenstate...\n",
      "Eigenstate 0 found in 8.50 seconds.                                             \n",
      "Task: Finding Eigenstate | Progress: 100.00% | Elapsed: 8.51s | Remaining: 0.00s\n",
      "Completed: Finding Eigenstate. Elapsed time: 8.51 seconds.\n",
      "1.0507721786189317\n"
     ]
    }
   ],
   "source": [
    "state = 0 # Ground state\n",
    "show_progress = True #Optional Progress updates\n",
    "\n",
    "eigen_value, eigenstate = qc.find_eigenstate(hamiltonian, state, show_progress)\n",
    "\n",
    "density_matrix = qc.create_density_matrix(eigenstate)\n",
    "\n",
    "configuration = [1, 1, 1, 0, 1, 1, 0, 0, 0, 0, 0, 0]\n",
    "reduced_density_matrix = qc.compute_reduced_density_matrix(density_matrix, configuration)\n",
    "\n",
    "vnee = qc.von_neumann_entropy_from_rdm(reduced_density_matrix)\n",
    "\n",
    "print(vnee)\n"
   ]
  },
  {
   "cell_type": "markdown",
   "metadata": {},
   "source": [
    "### Obtaining Binary Dictionary from hamiltonian\n",
    "We often work with the states and their probabilities so I've developed a function call that makes this process easier. You can choose which state you're obtaining probabilities for as well (ground, 1st, 2nd, etc...) \n",
    "\n",
    "Note: Obtaining eigenvalues may take up to several minutes for larger systems. Obtaining the ground state is significantly faster than obtaining any excited state. "
   ]
  },
  {
   "cell_type": "code",
   "execution_count": 6,
   "metadata": {},
   "outputs": [
    {
     "name": "stdout",
     "output_type": "stream",
     "text": [
      "Most probable 5 bit strings:\n",
      "1.  Bit string: 010010010010, Probability: 0.09415953\n",
      "2.  Bit string: 100001100001, Probability: 0.09415953\n",
      "3.  Bit string: 100100100001, Probability: 0.07475050\n",
      "4.  Bit string: 100001001001, Probability: 0.07475050\n",
      "5.  Bit string: 011000010010, Probability: 0.07475050\n"
     ]
    }
   ],
   "source": [
    "state = 0 # Get the ground state probabilities\n",
    "state_prob_dict = qc.get_eigenstate_probabilities(hamiltonian, state)\n",
    "qc.print_most_probable_data(state_prob_dict, 5)\n"
   ]
  },
  {
   "cell_type": "markdown",
   "metadata": {},
   "source": [
    "### 1D Quantum Ising Model Chain\n",
    "\n",
    "The code below constructs the hamiltonain of a 1D chain of spins using the Quantum Ising Model. The configuration is exactly the same as the first image for the Rydberg Chain, however we only consider nearest neighbor interactions so lattice spacing isn't needed. \n",
    "\n",
    "The Hamiltonian for a 1D chain of spins with a transverse magnetic field is:\n",
    "\n",
    "\\begin{equation}\n",
    "H = -J \\sum_{i=1}^{N-1} \\sigma_x^i \\sigma_x^{i+1} - h \\sum_{i=1}^{N} \\sigma_z^i\n",
    "\\end{equation}\n",
    "\n",
    "Where J denotes the interaction strength and h denotes the transverse field strength\n",
    "\n",
    "If periodic boundary conditions (PBC) are enabled, an additional term is included:\n",
    "\n",
    "\\begin{equation}\n",
    "H_{\\text{PBC}} = -J \\sigma_x^N \\sigma_x^1\n",
    "\\end{equation}\n"
   ]
  },
  {
   "cell_type": "code",
   "execution_count": 7,
   "metadata": {},
   "outputs": [
    {
     "name": "stdout",
     "output_type": "stream",
     "text": [
      "[[-12.   0.   0. ...   0.   0.   0.]\n",
      " [  0. -10.  -1. ...   0.   0.   0.]\n",
      " [  0.  -1. -10. ...   0.   0.   0.]\n",
      " ...\n",
      " [  0.   0.   0. ...  10.  -1.   0.]\n",
      " [  0.   0.   0. ...  -1.  10.   0.]\n",
      " [  0.   0.   0. ...   0.   0.  12.]]\n"
     ]
    }
   ],
   "source": [
    "# Parameters for the ising system system\n",
    "num_spins = 12  # Number of spins in the system\n",
    "J = 1.0  # Coupling strength between neighboring spins\n",
    "h = 1.0  # Strength of the transverse magnetic field\n",
    "pbc = True  # Enable periodic boundary conditions\n",
    "\n",
    "# Construct the Hamiltonian for the 1D Quantum Ising Model\n",
    "\n",
    "hamiltonian = qc.build_ising_hamiltonian(num_spins, J, h, pbc)\n",
    "\n",
    "print(hamiltonian.toarray())"
   ]
  },
  {
   "cell_type": "markdown",
   "metadata": {},
   "source": [
    "### Quantum Ising Ladder\n",
    "\n",
    "Just like before we are now interested in a ladder structure. The modified hamiltonian for a 2d strucutre is:\n",
    "\n",
    "\\begin{equation}\n",
    "H = -J \\sum_{\\langle i,j \\rangle} \\sigma_x^i \\sigma_x^j - h \\sum_{i} \\sigma_z^i\n",
    "\\end{equation}\n",
    "where:\n",
    "- $ \\langle i,j \\rangle $ includes horizontal (in-chain), vertical (between chains), and diagonal (optional) interactions.\n",
    "- $ J $ is the coupling strength.\n",
    "- $ h $ is the transverse field strength."
   ]
  },
  {
   "cell_type": "code",
   "execution_count": 8,
   "metadata": {},
   "outputs": [
    {
     "name": "stdout",
     "output_type": "stream",
     "text": [
      "[[-14.   0.   0. ...   0.   0.   0.]\n",
      " [  0. -12.  -1. ...   0.   0.   0.]\n",
      " [  0.  -1. -12. ...   0.   0.   0.]\n",
      " ...\n",
      " [  0.   0.   0. ...  12.  -1.   0.]\n",
      " [  0.   0.   0. ...  -1.  12.   0.]\n",
      " [  0.   0.   0. ...   0.   0.  14.]]\n"
     ]
    }
   ],
   "source": [
    "# Parameters for the ising system system\n",
    "num_spins = 14  # Number of spins in the system\n",
    "J = 1.0  # Coupling strength between neighboring spins\n",
    "h = 1.0  # Strength of the transverse magnetic field\n",
    "pbc = True  # Enable periodic boundary conditions\n",
    "include_diagonal = False  # Include diagonal interactions\n",
    "\n",
    "# Construct the Hamiltonian for the 2D Quantum Ising Model\n",
    "\n",
    "hamiltonian = qc.build_ising_hamiltonian_ladder(num_spins, J, h, pbc, include_diagonal)\n",
    "\n",
    "print(hamiltonian.toarray())"
   ]
  },
  {
   "cell_type": "code",
   "execution_count": null,
   "metadata": {},
   "outputs": [],
   "source": []
  }
 ],
 "metadata": {
  "kernelspec": {
   "display_name": "py39",
   "language": "python",
   "name": "python3"
  },
  "language_info": {
   "codemirror_mode": {
    "name": "ipython",
    "version": 3
   },
   "file_extension": ".py",
   "mimetype": "text/x-python",
   "name": "python",
   "nbconvert_exporter": "python",
   "pygments_lexer": "ipython3",
   "version": "3.11.5"
  }
 },
 "nbformat": 4,
 "nbformat_minor": 2
}
